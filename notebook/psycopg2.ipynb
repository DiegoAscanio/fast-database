{
 "cells": [
  {
   "cell_type": "code",
   "execution_count": 1,
   "metadata": {},
   "outputs": [],
   "source": [
    "import csv\n",
    "import io\n",
    "import psycopg2\n",
    "import time\n",
    "from functools import wraps\n",
    "from memory_profiler import memory_usage\n",
    "from typing import Iterator, Dict, Any, Optional"
   ]
  },
  {
   "cell_type": "code",
   "execution_count": 2,
   "metadata": {},
   "outputs": [],
   "source": [
    "def profile(fn):\n",
    "    @wraps(fn)\n",
    "    def inner(*args, **kwargs):\n",
    "        fn_kwargs_str = ', '.join(f'{k}={v}' for k, v in kwargs.items())\n",
    "        print(f'\\n{fn.__name__}({fn_kwargs_str})')\n",
    "\n",
    "        # Measure time\n",
    "        t = time.perf_counter()\n",
    "        retval = fn(*args, **kwargs)\n",
    "        elapsed = time.perf_counter() - t\n",
    "        print(f'Time   {elapsed:0.4}')\n",
    "\n",
    "        # Measure memory\n",
    "        mem, retval = memory_usage((fn, args, kwargs), retval=True, timeout=200, interval=1e-7)\n",
    "\n",
    "        print(f'Memory {max(mem) - min(mem)}')\n",
    "        return retval\n",
    "\n",
    "    return inner"
   ]
  },
  {
   "cell_type": "code",
   "execution_count": 3,
   "metadata": {},
   "outputs": [],
   "source": [
    "connection = psycopg2.connect(\n",
    "    host=\"localhost\",\n",
    "    database=\"estoque_teste\",\n",
    "    user=\"rg3915\",\n",
    "    password=\"1234\",\n",
    ")\n",
    "connection.autocommit = True"
   ]
  },
  {
   "cell_type": "code",
   "execution_count": 4,
   "metadata": {},
   "outputs": [],
   "source": [
    "def csv_to_list(filename: str) -> list:\n",
    "    '''\n",
    "    Lê um csv e retorna um OrderedDict.\n",
    "    Créditos para Rafael Henrique\n",
    "    https://bit.ly / 2FLDHsH\n",
    "    '''\n",
    "    with open(filename) as csv_file:\n",
    "        reader = csv.DictReader(csv_file, delimiter=',')\n",
    "        csv_data = [line for line in reader]\n",
    "    return csv_data"
   ]
  },
  {
   "cell_type": "code",
   "execution_count": 5,
   "metadata": {},
   "outputs": [],
   "source": [
    "items = csv_to_list('/tmp/produtos_1000.csv')"
   ]
  },
  {
   "cell_type": "code",
   "execution_count": 6,
   "metadata": {},
   "outputs": [
    {
     "data": {
      "text/plain": [
       "[{'produto': 'uUgiUtujdZCY', 'quantidade': '4404'},\n",
       " {'produto': 'VQZRSikwSBaI', 'quantidade': '383'},\n",
       " {'produto': 'OCycVVPdsHRA', 'quantidade': '9338'},\n",
       " {'produto': 'GZIXDUtvOzyT', 'quantidade': '6945'},\n",
       " {'produto': 'QkfAVbmHLPSt', 'quantidade': '5075'}]"
      ]
     },
     "execution_count": 6,
     "metadata": {},
     "output_type": "execute_result"
    }
   ],
   "source": [
    "items[:5]"
   ]
  },
  {
   "cell_type": "code",
   "execution_count": 7,
   "metadata": {},
   "outputs": [],
   "source": [
    "@profile\n",
    "def insert_one_by_one(connection, items: Iterator[Dict[str, Any]]) -> None:\n",
    "    with connection.cursor() as cursor:\n",
    "        for item in items:\n",
    "            cursor.execute(\"\"\"\n",
    "                INSERT INTO core_product (title, quantity)\n",
    "                VALUES (\n",
    "                    %(title)s,\n",
    "                    %(quantity)s\n",
    "                );\n",
    "            \"\"\", {\n",
    "                'title': item['produto'],\n",
    "                'quantity': int(item['quantidade']),\n",
    "            })"
   ]
  },
  {
   "cell_type": "code",
   "execution_count": 8,
   "metadata": {},
   "outputs": [
    {
     "name": "stdout",
     "output_type": "stream",
     "text": [
      "\n",
      "insert_one_by_one()\n",
      "Time   1.276\n",
      "Memory 0.1328125\n"
     ]
    }
   ],
   "source": [
    "insert_one_by_one(connection, items)"
   ]
  },
  {
   "cell_type": "code",
   "execution_count": 9,
   "metadata": {},
   "outputs": [],
   "source": [
    "@profile\n",
    "def insert_executemany(connection, items: Iterator[Dict[str, Any]]) -> None:\n",
    "    with connection.cursor() as cursor:\n",
    "        all_items = [{\n",
    "            'title': item['produto'],\n",
    "            'quantity': int(item['quantidade'])\n",
    "        } for item in items]\n",
    "\n",
    "        cursor.executemany(\"\"\"\n",
    "            INSERT INTO core_product (title, quantity)\n",
    "            VALUES (\n",
    "                %(title)s,\n",
    "                %(quantity)s\n",
    "            );\n",
    "        \"\"\", all_items)"
   ]
  },
  {
   "cell_type": "code",
   "execution_count": 10,
   "metadata": {},
   "outputs": [
    {
     "name": "stdout",
     "output_type": "stream",
     "text": [
      "\n",
      "insert_executemany()\n",
      "Time   1.511\n",
      "Memory 0.015625\n"
     ]
    }
   ],
   "source": [
    "insert_executemany(connection, items)"
   ]
  },
  {
   "cell_type": "code",
   "execution_count": 11,
   "metadata": {},
   "outputs": [],
   "source": [
    "@profile\n",
    "def insert_with_copy_from(connection):\n",
    "    with open('/tmp/produtos_1000.csv', 'r') as f:\n",
    "        next(f)\n",
    "        connection.cursor().copy_from(f, 'core_product', sep=',', columns=('title', 'quantity'))"
   ]
  },
  {
   "cell_type": "code",
   "execution_count": 12,
   "metadata": {},
   "outputs": [
    {
     "name": "stdout",
     "output_type": "stream",
     "text": [
      "\n",
      "insert_with_copy_from()\n",
      "Time   0.009007\n",
      "Memory 0.01171875\n"
     ]
    }
   ],
   "source": [
    "insert_with_copy_from(connection)"
   ]
  },
  {
   "cell_type": "code",
   "execution_count": null,
   "metadata": {},
   "outputs": [],
   "source": []
  }
 ],
 "metadata": {
  "kernelspec": {
   "display_name": "Python 3",
   "language": "python",
   "name": "python3"
  },
  "language_info": {
   "codemirror_mode": {
    "name": "ipython",
    "version": 3
   },
   "file_extension": ".py",
   "mimetype": "text/x-python",
   "name": "python",
   "nbconvert_exporter": "python",
   "pygments_lexer": "ipython3",
   "version": "3.8.2"
  }
 },
 "nbformat": 4,
 "nbformat_minor": 4
}
