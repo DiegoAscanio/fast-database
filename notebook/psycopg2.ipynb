{
 "cells": [
  {
   "cell_type": "code",
   "execution_count": null,
   "metadata": {},
   "outputs": [],
   "source": [
    "import csv\n",
    "import io\n",
    "import psycopg2\n",
    "import subprocess\n",
    "import time\n",
    "import timeit\n",
    "from functools import wraps\n",
    "from memory_profiler import memory_usage\n",
    "from pathlib import Path\n",
    "from typing import Iterator, Dict, Any, Optional"
   ]
  },
  {
   "cell_type": "code",
   "execution_count": null,
   "metadata": {},
   "outputs": [],
   "source": [
    "logfile = '../time_log.txt'"
   ]
  },
  {
   "cell_type": "code",
   "execution_count": null,
   "metadata": {},
   "outputs": [],
   "source": [
    "# https://hakibenita.com/fast-load-data-python-postgresql\n",
    "def profile(fn):\n",
    "    @wraps(fn)\n",
    "    def inner(*args, **kwargs):\n",
    "        fn_kwargs_str = ', '.join(f'{k}={v}' for k, v in kwargs.items())\n",
    "        print(f'\\n{fn.__name__}({fn_kwargs_str})')\n",
    "\n",
    "        # Measure time\n",
    "        t = time.perf_counter()\n",
    "        retval = fn(*args, **kwargs)\n",
    "        elapsed = time.perf_counter() - t\n",
    "        print(f'Time   {elapsed:0.4}')\n",
    "\n",
    "        # Measure memory\n",
    "        mem, retval = memory_usage((fn, args, kwargs), retval=True, timeout=200, interval=1e-7)\n",
    "\n",
    "        print(f'Memory {max(mem) - min(mem)}')\n",
    "        return retval\n",
    "\n",
    "    return inner"
   ]
  },
  {
   "cell_type": "code",
   "execution_count": null,
   "metadata": {},
   "outputs": [],
   "source": [
    "connection = psycopg2.connect(\n",
    "    host=\"localhost\",\n",
    "    database=\"estoque_teste\",\n",
    "    user=\"rg3915\",\n",
    "    password=\"1234\",\n",
    ")\n",
    "connection.autocommit = True"
   ]
  },
  {
   "cell_type": "code",
   "execution_count": null,
   "metadata": {},
   "outputs": [],
   "source": [
    "@profile\n",
    "def csv_to_list(filename: str) -> list:\n",
    "    '''\n",
    "    Lê um csv e retorna um OrderedDict.\n",
    "    Créditos para Rafael Henrique\n",
    "    https://bit.ly / 2FLDHsH\n",
    "    '''\n",
    "    with open(filename) as csv_file:\n",
    "        reader = csv.DictReader(csv_file, delimiter=',')\n",
    "        csv_data = [line for line in reader]\n",
    "    return csv_data"
   ]
  },
  {
   "cell_type": "code",
   "execution_count": null,
   "metadata": {},
   "outputs": [],
   "source": [
    "max_rows = 10000"
   ]
  },
  {
   "cell_type": "code",
   "execution_count": null,
   "metadata": {},
   "outputs": [],
   "source": [
    "home = str(Path.home())\n",
    "filename = f'{home}/dados/produtos_{max_rows}.csv'"
   ]
  },
  {
   "cell_type": "code",
   "execution_count": null,
   "metadata": {},
   "outputs": [],
   "source": [
    "# Ler um csv consome memória.\n",
    "items = csv_to_list(filename)\n",
    "# Para 14000605 ele consome\n",
    "# Time   47.65\n",
    "# Memory 4950.99"
   ]
  },
  {
   "cell_type": "code",
   "execution_count": null,
   "metadata": {},
   "outputs": [],
   "source": [
    "items[:5]"
   ]
  },
  {
   "cell_type": "code",
   "execution_count": null,
   "metadata": {},
   "outputs": [],
   "source": [
    "def timelog(total_items, _time, logfile, resource):\n",
    "    total_items = f'{total_items:,}'.replace(',', '.')\n",
    "    space = ' ' * (10 - len(total_items))\n",
    "    time = round((_time), 3)\n",
    "    subprocess.call(f\"printf '{total_items} {space} -> {time}s\\t --> Inserindo {total_items} registros com {resource}.\\n' >> {logfile}\", shell=True)"
   ]
  },
  {
   "cell_type": "markdown",
   "metadata": {},
   "source": [
    "## One by one"
   ]
  },
  {
   "cell_type": "code",
   "execution_count": null,
   "metadata": {},
   "outputs": [],
   "source": [
    "@profile\n",
    "def insert_one_by_one(connection, items: Iterator[Dict[str, Any]]) -> None:\n",
    "    with connection.cursor() as cursor:\n",
    "        for item in items:\n",
    "            cursor.execute(\"\"\"\n",
    "                INSERT INTO core_product (title, quantity)\n",
    "                VALUES (\n",
    "                    %(title)s,\n",
    "                    %(quantity)s\n",
    "                );\n",
    "            \"\"\", {\n",
    "                'title': item['title'],\n",
    "                'quantity': int(item['quantity']),\n",
    "            })"
   ]
  },
  {
   "cell_type": "code",
   "execution_count": null,
   "metadata": {},
   "outputs": [],
   "source": [
    "# Sem profile vai demorar a metade do tempo.\n",
    "tic1 = timeit.default_timer()\n",
    "insert_one_by_one(connection, items)  # <--- insert data one by one\n",
    "toc1 = timeit.default_timer()\n",
    "time1 = toc1 - tic1\n",
    "round((time1), 3)"
   ]
  },
  {
   "cell_type": "code",
   "execution_count": null,
   "metadata": {},
   "outputs": [],
   "source": [
    "timelog(len(items), time1, logfile, 'psycopg2 one by one (with profile)')"
   ]
  },
  {
   "cell_type": "code",
   "execution_count": null,
   "metadata": {},
   "outputs": [],
   "source": [
    "# without profile"
   ]
  },
  {
   "cell_type": "code",
   "execution_count": null,
   "metadata": {},
   "outputs": [],
   "source": [
    "def insert_one_by_one(connection, items: Iterator[Dict[str, Any]]) -> None:\n",
    "    with connection.cursor() as cursor:\n",
    "        for item in items:\n",
    "            cursor.execute(\"\"\"\n",
    "                INSERT INTO core_product (title, quantity)\n",
    "                VALUES (\n",
    "                    %(title)s,\n",
    "                    %(quantity)s\n",
    "                );\n",
    "            \"\"\", {\n",
    "                'title': item['title'],\n",
    "                'quantity': int(item['quantity']),\n",
    "            })"
   ]
  },
  {
   "cell_type": "code",
   "execution_count": null,
   "metadata": {},
   "outputs": [],
   "source": [
    "tic2 = timeit.default_timer()\n",
    "insert_one_by_one(connection, items)  # <--- insert data one by one\n",
    "toc2 = timeit.default_timer()\n",
    "time2 = toc2 - tic2\n",
    "round((time2), 3)"
   ]
  },
  {
   "cell_type": "code",
   "execution_count": null,
   "metadata": {},
   "outputs": [],
   "source": [
    "timelog(len(items), time2, logfile, 'psycopg2 one by one')"
   ]
  },
  {
   "cell_type": "markdown",
   "metadata": {},
   "source": [
    "## executemany"
   ]
  },
  {
   "cell_type": "code",
   "execution_count": null,
   "metadata": {},
   "outputs": [],
   "source": [
    "@profile\n",
    "def insert_executemany(connection, items: Iterator[Dict[str, Any]]) -> None:\n",
    "    with connection.cursor() as cursor:\n",
    "        all_items = [{\n",
    "            'title': item['title'],\n",
    "            'quantity': int(item['quantity'])\n",
    "        } for item in items]\n",
    "\n",
    "        cursor.executemany(\"\"\"\n",
    "            INSERT INTO core_product (title, quantity)\n",
    "            VALUES (\n",
    "                %(title)s,\n",
    "                %(quantity)s\n",
    "            );\n",
    "        \"\"\", all_items)"
   ]
  },
  {
   "cell_type": "code",
   "execution_count": null,
   "metadata": {},
   "outputs": [],
   "source": [
    "tic3 = timeit.default_timer()\n",
    "insert_executemany(connection, items)  # <--- insert data executemany\n",
    "toc3 = timeit.default_timer()\n",
    "time3 = toc3 - tic3\n",
    "round((time3), 3)"
   ]
  },
  {
   "cell_type": "code",
   "execution_count": null,
   "metadata": {},
   "outputs": [],
   "source": [
    "timelog(len(items), time3, logfile, 'psycopg2 executemany (with profile)')"
   ]
  },
  {
   "cell_type": "code",
   "execution_count": null,
   "metadata": {},
   "outputs": [],
   "source": [
    "# without profile"
   ]
  },
  {
   "cell_type": "code",
   "execution_count": null,
   "metadata": {},
   "outputs": [],
   "source": [
    "def insert_executemany(connection, items: Iterator[Dict[str, Any]]) -> None:\n",
    "    with connection.cursor() as cursor:\n",
    "        all_items = [{\n",
    "            'title': item['title'],\n",
    "            'quantity': int(item['quantity'])\n",
    "        } for item in items]\n",
    "\n",
    "        cursor.executemany(\"\"\"\n",
    "            INSERT INTO core_product (title, quantity)\n",
    "            VALUES (\n",
    "                %(title)s,\n",
    "                %(quantity)s\n",
    "            );\n",
    "        \"\"\", all_items)"
   ]
  },
  {
   "cell_type": "code",
   "execution_count": null,
   "metadata": {},
   "outputs": [],
   "source": [
    "tic4 = timeit.default_timer()\n",
    "insert_executemany(connection, items)  # <--- insert data executemany\n",
    "toc4 = timeit.default_timer()\n",
    "time4 = toc4 - tic4\n",
    "round((time4), 3)"
   ]
  },
  {
   "cell_type": "code",
   "execution_count": null,
   "metadata": {},
   "outputs": [],
   "source": [
    "timelog(len(items), time4, logfile, 'psycopg2 executemany')"
   ]
  },
  {
   "cell_type": "markdown",
   "metadata": {},
   "source": [
    "```\n",
    "100.000     -> 4.866s\t --> Inserindo 100.000 registros com Django bulk_create.\n",
    "10.000      -> 11.798s\t --> Inserindo 10.000 registros com psycopg2 executemany.\n",
    "```\n",
    "\n",
    "bulk_create\n",
    "\n",
    "https://docs.djangoproject.com/en/2.2/ref/models/querysets/#bulk-create\n",
    "\n",
    "Github: bulk_create\n",
    "\n",
    "https://github.com/django/django/blob/master/django/db/models/query.py#L455\n",
    "\n",
    "Github: Atomic transation\n",
    "\n",
    "https://github.com/django/django/blob/master/django/db/models/query.py#L491\n",
    "\n",
    "Database transactions\n",
    "\n",
    "https://docs.djangoproject.com/en/3.0/topics/db/transactions/\n",
    "\n"
   ]
  },
  {
   "cell_type": "markdown",
   "metadata": {},
   "source": [
    "## copy_from"
   ]
  },
  {
   "cell_type": "code",
   "execution_count": null,
   "metadata": {},
   "outputs": [],
   "source": [
    "@profile\n",
    "def insert_with_copy_from(connection):\n",
    "    with open(filename, 'r') as f:\n",
    "        next(f)\n",
    "        connection.cursor().copy_from(f, 'core_product', sep=',', columns=('title', 'quantity'))"
   ]
  },
  {
   "cell_type": "code",
   "execution_count": null,
   "metadata": {},
   "outputs": [],
   "source": [
    "tic5 = timeit.default_timer()\n",
    "insert_with_copy_from(connection)  # <--- insert data copy_from\n",
    "toc5 = timeit.default_timer()\n",
    "time5 = toc5 - tic5\n",
    "round((time5), 3)"
   ]
  },
  {
   "cell_type": "code",
   "execution_count": null,
   "metadata": {},
   "outputs": [],
   "source": [
    "timelog(max_rows, time5, logfile, 'psycopg2 copy_from (with profile)')"
   ]
  },
  {
   "cell_type": "code",
   "execution_count": null,
   "metadata": {},
   "outputs": [],
   "source": [
    "# without profile"
   ]
  },
  {
   "cell_type": "code",
   "execution_count": null,
   "metadata": {},
   "outputs": [],
   "source": [
    "def insert_with_copy_from(connection):\n",
    "    with open(filename, 'r') as f:\n",
    "        next(f)\n",
    "        connection.cursor().copy_from(f, 'core_product', sep=',', columns=('title', 'quantity'))"
   ]
  },
  {
   "cell_type": "code",
   "execution_count": null,
   "metadata": {},
   "outputs": [],
   "source": [
    "tic5 = timeit.default_timer()\n",
    "insert_with_copy_from(connection)  # <--- insert data copy_from\n",
    "toc5 = timeit.default_timer()\n",
    "time5 = toc5 - tic5\n",
    "round((time5), 3)"
   ]
  },
  {
   "cell_type": "code",
   "execution_count": null,
   "metadata": {},
   "outputs": [],
   "source": [
    "timelog(max_rows, time5, logfile, 'psycopg2 copy_from')"
   ]
  },
  {
   "cell_type": "markdown",
   "metadata": {},
   "source": [
    "```\n",
    "10.000      -> 0.433s\t --> Inserindo 10.000 registros com Django bulk_create.\n",
    "10.000      -> 0.058s\t --> Inserindo 10.000 registros com psycopg2 copy_from.\n",
    "```\n",
    "\n",
    "\n"
   ]
  },
  {
   "cell_type": "code",
   "execution_count": null,
   "metadata": {},
   "outputs": [],
   "source": [
    "round(0.433/0.058, 2)"
   ]
  },
  {
   "cell_type": "code",
   "execution_count": null,
   "metadata": {},
   "outputs": [],
   "source": [
    "# Próximo passo\n",
    "# insert_with_subprocess.py\n",
    "# Rodar no terminal."
   ]
  },
  {
   "cell_type": "code",
   "execution_count": null,
   "metadata": {},
   "outputs": [],
   "source": []
  }
 ],
 "metadata": {
  "kernelspec": {
   "display_name": "Python 3",
   "language": "python",
   "name": "python3"
  },
  "language_info": {
   "codemirror_mode": {
    "name": "ipython",
    "version": 3
   },
   "file_extension": ".py",
   "mimetype": "text/x-python",
   "name": "python",
   "nbconvert_exporter": "python",
   "pygments_lexer": "ipython3",
   "version": "3.8.2"
  }
 },
 "nbformat": 4,
 "nbformat_minor": 4
}
