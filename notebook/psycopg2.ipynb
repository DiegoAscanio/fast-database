{
 "cells": [
  {
   "cell_type": "code",
   "execution_count": 1,
   "metadata": {},
   "outputs": [],
   "source": [
    "import csv\n",
    "import io\n",
    "import psycopg2\n",
    "import subprocess\n",
    "import time\n",
    "import timeit\n",
    "from functools import wraps\n",
    "from memory_profiler import memory_usage\n",
    "from pathlib import Path\n",
    "from typing import Iterator, Dict, Any, Optional"
   ]
  },
  {
   "cell_type": "code",
   "execution_count": 2,
   "metadata": {},
   "outputs": [],
   "source": [
    "logfile = '../time_log.txt'"
   ]
  },
  {
   "cell_type": "code",
   "execution_count": 3,
   "metadata": {},
   "outputs": [],
   "source": [
    "# https://hakibenita.com/fast-load-data-python-postgresql\n",
    "def profile(fn):\n",
    "    @wraps(fn)\n",
    "    def inner(*args, **kwargs):\n",
    "        fn_kwargs_str = ', '.join(f'{k}={v}' for k, v in kwargs.items())\n",
    "        print(f'\\n{fn.__name__}({fn_kwargs_str})')\n",
    "\n",
    "        # Measure time\n",
    "        t = time.perf_counter()\n",
    "        retval = fn(*args, **kwargs)\n",
    "        elapsed = time.perf_counter() - t\n",
    "        print(f'Time   {elapsed:0.4}')\n",
    "\n",
    "        # Measure memory\n",
    "        mem, retval = memory_usage((fn, args, kwargs), retval=True, timeout=200, interval=1e-7)\n",
    "\n",
    "        print(f'Memory {max(mem) - min(mem)}')\n",
    "        return retval\n",
    "\n",
    "    return inner"
   ]
  },
  {
   "cell_type": "code",
   "execution_count": 4,
   "metadata": {},
   "outputs": [],
   "source": [
    "connection = psycopg2.connect(\n",
    "    host=\"localhost\",\n",
    "    database=\"estoque_teste\",\n",
    "    user=\"rg3915\",\n",
    "    password=\"1234\",\n",
    ")\n",
    "connection.autocommit = True"
   ]
  },
  {
   "cell_type": "code",
   "execution_count": 5,
   "metadata": {},
   "outputs": [],
   "source": [
    "@profile\n",
    "def csv_to_list(filename: str) -> list:\n",
    "    '''\n",
    "    Lê um csv e retorna um OrderedDict.\n",
    "    Créditos para Rafael Henrique\n",
    "    https://bit.ly / 2FLDHsH\n",
    "    '''\n",
    "    with open(filename) as csv_file:\n",
    "        reader = csv.DictReader(csv_file, delimiter=',')\n",
    "        csv_data = [line for line in reader]\n",
    "    return csv_data"
   ]
  },
  {
   "cell_type": "code",
   "execution_count": 6,
   "metadata": {},
   "outputs": [],
   "source": [
    "max_rows = 10000"
   ]
  },
  {
   "cell_type": "code",
   "execution_count": 7,
   "metadata": {},
   "outputs": [],
   "source": [
    "home = str(Path.home())\n",
    "filename = f'{home}/dados/produtos_{max_rows}.csv'"
   ]
  },
  {
   "cell_type": "code",
   "execution_count": 8,
   "metadata": {},
   "outputs": [
    {
     "name": "stdout",
     "output_type": "stream",
     "text": [
      "\n",
      "csv_to_list()\n",
      "Time   0.05657\n",
      "Memory 3.73828125\n"
     ]
    }
   ],
   "source": [
    "# Ler um csv consome memória.\n",
    "items = csv_to_list(filename)"
   ]
  },
  {
   "cell_type": "code",
   "execution_count": 9,
   "metadata": {},
   "outputs": [
    {
     "data": {
      "text/plain": [
       "[{'title': 'RbwgRYURhGtF', 'quantity': '6400'},\n",
       " {'title': 'mTMDWLahbrjY', 'quantity': '3658'},\n",
       " {'title': 'TmQjUevhJmsF', 'quantity': '8242'},\n",
       " {'title': 'UsOPzMXRJprQ', 'quantity': '2260'},\n",
       " {'title': 'gnAPXyfEmkUR', 'quantity': '4236'}]"
      ]
     },
     "execution_count": 9,
     "metadata": {},
     "output_type": "execute_result"
    }
   ],
   "source": [
    "items[:5]"
   ]
  },
  {
   "cell_type": "code",
   "execution_count": 10,
   "metadata": {},
   "outputs": [],
   "source": [
    "def timelog(total_items, _time, logfile, resource):\n",
    "    total_items = f'{total_items:,}'.replace(',', '.')\n",
    "    space = ' ' * (10 - len(total_items))\n",
    "    time = round((_time), 3)\n",
    "    subprocess.call(f\"printf '{total_items} {space} -> {time}s\\t --> Inserindo {total_items} registros com {resource}.\\n' >> {logfile}\", shell=True)"
   ]
  },
  {
   "cell_type": "markdown",
   "metadata": {},
   "source": [
    "## One by one"
   ]
  },
  {
   "cell_type": "code",
   "execution_count": 11,
   "metadata": {},
   "outputs": [],
   "source": [
    "@profile\n",
    "def insert_one_by_one(connection, items: Iterator[Dict[str, Any]]) -> None:\n",
    "    with connection.cursor() as cursor:\n",
    "        for item in items:\n",
    "            cursor.execute(\"\"\"\n",
    "                INSERT INTO core_product (title, quantity)\n",
    "                VALUES (\n",
    "                    %(title)s,\n",
    "                    %(quantity)s\n",
    "                );\n",
    "            \"\"\", {\n",
    "                'title': item['title'],\n",
    "                'quantity': int(item['quantity']),\n",
    "            })"
   ]
  },
  {
   "cell_type": "code",
   "execution_count": 12,
   "metadata": {},
   "outputs": [
    {
     "name": "stdout",
     "output_type": "stream",
     "text": [
      "\n",
      "insert_one_by_one()\n",
      "Time   11.89\n",
      "Memory 0.02734375\n"
     ]
    },
    {
     "data": {
      "text/plain": [
       "24.051"
      ]
     },
     "execution_count": 12,
     "metadata": {},
     "output_type": "execute_result"
    }
   ],
   "source": [
    "# Sem profile vai demorar a metade do tempo.\n",
    "tic1 = timeit.default_timer()\n",
    "insert_one_by_one(connection, items)  # <--- insert data one by one\n",
    "toc1 = timeit.default_timer()\n",
    "time1 = toc1 - tic1\n",
    "round((time1), 3)"
   ]
  },
  {
   "cell_type": "code",
   "execution_count": 13,
   "metadata": {},
   "outputs": [],
   "source": [
    "timelog(len(items), time1, logfile, 'psycopg2 one by one (with profile)')"
   ]
  },
  {
   "cell_type": "code",
   "execution_count": 14,
   "metadata": {},
   "outputs": [],
   "source": [
    "# without profile"
   ]
  },
  {
   "cell_type": "code",
   "execution_count": 15,
   "metadata": {},
   "outputs": [],
   "source": [
    "def insert_one_by_one(connection, items: Iterator[Dict[str, Any]]) -> None:\n",
    "    with connection.cursor() as cursor:\n",
    "        for item in items:\n",
    "            cursor.execute(\"\"\"\n",
    "                INSERT INTO core_product (title, quantity)\n",
    "                VALUES (\n",
    "                    %(title)s,\n",
    "                    %(quantity)s\n",
    "                );\n",
    "            \"\"\", {\n",
    "                'title': item['title'],\n",
    "                'quantity': int(item['quantity']),\n",
    "            })"
   ]
  },
  {
   "cell_type": "code",
   "execution_count": 16,
   "metadata": {},
   "outputs": [
    {
     "data": {
      "text/plain": [
       "12.726"
      ]
     },
     "execution_count": 16,
     "metadata": {},
     "output_type": "execute_result"
    }
   ],
   "source": [
    "tic2 = timeit.default_timer()\n",
    "insert_one_by_one(connection, items)  # <--- insert data one by one\n",
    "toc2 = timeit.default_timer()\n",
    "time2 = toc2 - tic2\n",
    "round((time2), 3)"
   ]
  },
  {
   "cell_type": "code",
   "execution_count": 17,
   "metadata": {},
   "outputs": [],
   "source": [
    "timelog(len(items), time2, logfile, 'psycopg2 one by one')"
   ]
  },
  {
   "cell_type": "markdown",
   "metadata": {},
   "source": [
    "## executemany"
   ]
  },
  {
   "cell_type": "code",
   "execution_count": 22,
   "metadata": {},
   "outputs": [],
   "source": [
    "@profile\n",
    "def insert_executemany(connection, items: Iterator[Dict[str, Any]]) -> None:\n",
    "    with connection.cursor() as cursor:\n",
    "        all_items = [{\n",
    "            'title': item['title'],\n",
    "            'quantity': int(item['quantity'])\n",
    "        } for item in items]\n",
    "\n",
    "        cursor.executemany(\"\"\"\n",
    "            INSERT INTO core_product (title, quantity)\n",
    "            VALUES (\n",
    "                %(title)s,\n",
    "                %(quantity)s\n",
    "            );\n",
    "        \"\"\", all_items)"
   ]
  },
  {
   "cell_type": "code",
   "execution_count": 23,
   "metadata": {},
   "outputs": [
    {
     "name": "stdout",
     "output_type": "stream",
     "text": [
      "\n",
      "insert_executemany()\n",
      "Time   11.64\n",
      "Memory 2.0078125\n"
     ]
    },
    {
     "data": {
      "text/plain": [
       "23.203"
      ]
     },
     "execution_count": 23,
     "metadata": {},
     "output_type": "execute_result"
    }
   ],
   "source": [
    "tic3 = timeit.default_timer()\n",
    "insert_executemany(connection, items)  # <--- insert data executemany\n",
    "toc3 = timeit.default_timer()\n",
    "time3 = toc3 - tic3\n",
    "round((time3), 3)"
   ]
  },
  {
   "cell_type": "code",
   "execution_count": 24,
   "metadata": {},
   "outputs": [],
   "source": [
    "timelog(len(items), time3, logfile, 'psycopg2 executemany (with profile)')"
   ]
  },
  {
   "cell_type": "code",
   "execution_count": 25,
   "metadata": {},
   "outputs": [],
   "source": [
    "# without profile"
   ]
  },
  {
   "cell_type": "code",
   "execution_count": 26,
   "metadata": {},
   "outputs": [],
   "source": [
    "def insert_executemany(connection, items: Iterator[Dict[str, Any]]) -> None:\n",
    "    with connection.cursor() as cursor:\n",
    "        all_items = [{\n",
    "            'title': item['title'],\n",
    "            'quantity': int(item['quantity'])\n",
    "        } for item in items]\n",
    "\n",
    "        cursor.executemany(\"\"\"\n",
    "            INSERT INTO core_product (title, quantity)\n",
    "            VALUES (\n",
    "                %(title)s,\n",
    "                %(quantity)s\n",
    "            );\n",
    "        \"\"\", all_items)"
   ]
  },
  {
   "cell_type": "code",
   "execution_count": 27,
   "metadata": {},
   "outputs": [
    {
     "data": {
      "text/plain": [
       "11.798"
      ]
     },
     "execution_count": 27,
     "metadata": {},
     "output_type": "execute_result"
    }
   ],
   "source": [
    "tic4 = timeit.default_timer()\n",
    "insert_executemany(connection, items)  # <--- insert data executemany\n",
    "toc4 = timeit.default_timer()\n",
    "time4 = toc4 - tic4\n",
    "round((time4), 3)"
   ]
  },
  {
   "cell_type": "code",
   "execution_count": 28,
   "metadata": {},
   "outputs": [],
   "source": [
    "timelog(len(items), time4, logfile, 'psycopg2 executemany')"
   ]
  },
  {
   "cell_type": "markdown",
   "metadata": {},
   "source": [
    "```\n",
    "100.000     -> 4.866s\t --> Inserindo 100.000 registros com Django bulk_create.\n",
    "10.000      -> 11.798s\t --> Inserindo 10.000 registros com psycopg2 executemany.\n",
    "```\n",
    "\n",
    "bulk_create\n",
    "\n",
    "https://docs.djangoproject.com/en/2.2/ref/models/querysets/#bulk-create\n",
    "\n",
    "Github: bulk_create\n",
    "\n",
    "https://github.com/django/django/blob/master/django/db/models/query.py#L455\n",
    "\n",
    "Github: Atomic transation\n",
    "\n",
    "https://github.com/django/django/blob/master/django/db/models/query.py#L491\n",
    "\n",
    "Database transactions\n",
    "\n",
    "https://docs.djangoproject.com/en/3.0/topics/db/transactions/\n",
    "\n"
   ]
  },
  {
   "cell_type": "markdown",
   "metadata": {},
   "source": [
    "## copy_from"
   ]
  },
  {
   "cell_type": "code",
   "execution_count": 29,
   "metadata": {},
   "outputs": [],
   "source": [
    "@profile\n",
    "def insert_with_copy_from(connection):\n",
    "    with open(filename, 'r') as f:\n",
    "        next(f)\n",
    "        connection.cursor().copy_from(f, 'core_product', sep=',', columns=('title', 'quantity'))"
   ]
  },
  {
   "cell_type": "code",
   "execution_count": 30,
   "metadata": {},
   "outputs": [
    {
     "name": "stdout",
     "output_type": "stream",
     "text": [
      "\n",
      "insert_with_copy_from()\n",
      "Time   0.03871\n",
      "Memory 0.0\n"
     ]
    },
    {
     "data": {
      "text/plain": [
       "0.119"
      ]
     },
     "execution_count": 30,
     "metadata": {},
     "output_type": "execute_result"
    }
   ],
   "source": [
    "tic5 = timeit.default_timer()\n",
    "insert_with_copy_from(connection)  # <--- insert data copy_from\n",
    "toc5 = timeit.default_timer()\n",
    "time5 = toc5 - tic5\n",
    "round((time5), 3)"
   ]
  },
  {
   "cell_type": "code",
   "execution_count": 31,
   "metadata": {},
   "outputs": [],
   "source": [
    "timelog(max_rows, time5, logfile, 'psycopg2 copy_from (with profile)')"
   ]
  },
  {
   "cell_type": "code",
   "execution_count": 32,
   "metadata": {},
   "outputs": [],
   "source": [
    "# without profile"
   ]
  },
  {
   "cell_type": "code",
   "execution_count": 33,
   "metadata": {},
   "outputs": [],
   "source": [
    "def insert_with_copy_from(connection):\n",
    "    with open(filename, 'r') as f:\n",
    "        next(f)\n",
    "        connection.cursor().copy_from(f, 'core_product', sep=',', columns=('title', 'quantity'))"
   ]
  },
  {
   "cell_type": "code",
   "execution_count": 34,
   "metadata": {},
   "outputs": [
    {
     "data": {
      "text/plain": [
       "0.058"
      ]
     },
     "execution_count": 34,
     "metadata": {},
     "output_type": "execute_result"
    }
   ],
   "source": [
    "tic5 = timeit.default_timer()\n",
    "insert_with_copy_from(connection)  # <--- insert data copy_from\n",
    "toc5 = timeit.default_timer()\n",
    "time5 = toc5 - tic5\n",
    "round((time5), 3)"
   ]
  },
  {
   "cell_type": "code",
   "execution_count": 35,
   "metadata": {},
   "outputs": [],
   "source": [
    "timelog(max_rows, time5, logfile, 'psycopg2 copy_from')"
   ]
  },
  {
   "cell_type": "markdown",
   "metadata": {},
   "source": [
    "```\n",
    "10.000      -> 0.433s\t --> Inserindo 10.000 registros com Django bulk_create.\n",
    "10.000      -> 0.058s\t --> Inserindo 10.000 registros com psycopg2 copy_from.\n",
    "```\n",
    "\n",
    "\n"
   ]
  },
  {
   "cell_type": "code",
   "execution_count": 38,
   "metadata": {},
   "outputs": [
    {
     "data": {
      "text/plain": [
       "7.47"
      ]
     },
     "execution_count": 38,
     "metadata": {},
     "output_type": "execute_result"
    }
   ],
   "source": [
    "round(0.433/0.058, 2)"
   ]
  },
  {
   "cell_type": "code",
   "execution_count": 39,
   "metadata": {},
   "outputs": [],
   "source": [
    "# Próximo passo\n",
    "# insert_with_subprocess.py\n",
    "# Rodar no terminal."
   ]
  },
  {
   "cell_type": "code",
   "execution_count": null,
   "metadata": {},
   "outputs": [],
   "source": []
  }
 ],
 "metadata": {
  "kernelspec": {
   "display_name": "Python 3",
   "language": "python",
   "name": "python3"
  },
  "language_info": {
   "codemirror_mode": {
    "name": "ipython",
    "version": 3
   },
   "file_extension": ".py",
   "mimetype": "text/x-python",
   "name": "python",
   "nbconvert_exporter": "python",
   "pygments_lexer": "ipython3",
   "version": "3.8.2"
  }
 },
 "nbformat": 4,
 "nbformat_minor": 4
}
