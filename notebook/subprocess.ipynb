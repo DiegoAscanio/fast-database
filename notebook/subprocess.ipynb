{
 "cells": [
  {
   "cell_type": "code",
   "execution_count": 1,
   "metadata": {},
   "outputs": [],
   "source": [
    "import subprocess\n",
    "import timeit"
   ]
  },
  {
   "cell_type": "code",
   "execution_count": 2,
   "metadata": {},
   "outputs": [],
   "source": [
    "# Insere os dados\n",
    "filename = '/tmp/produtos_1000.csv'  # ou produtos_14000605.csv"
   ]
  },
  {
   "cell_type": "code",
   "execution_count": 3,
   "metadata": {},
   "outputs": [],
   "source": [
    "copy_sql = f\"COPY core_product (title, quantity) FROM '{filename}' CSV HEADER;\"\n",
    "copy_psql = f'psql -U postgres -c \"{copy_sql}\" estoque_teste'"
   ]
  },
  {
   "cell_type": "code",
   "execution_count": 4,
   "metadata": {},
   "outputs": [
    {
     "name": "stdout",
     "output_type": "stream",
     "text": [
      "0.09 segundos\n"
     ]
    }
   ],
   "source": [
    "tic = timeit.default_timer()\n",
    "subprocess.call(copy_psql, shell=True)\n",
    "toc = timeit.default_timer()\n",
    "print(round(toc - tic, 2), 'segundos')"
   ]
  },
  {
   "cell_type": "code",
   "execution_count": 9,
   "metadata": {},
   "outputs": [
    {
     "data": {
      "text/plain": [
       "0"
      ]
     },
     "execution_count": 9,
     "metadata": {},
     "output_type": "execute_result"
    }
   ],
   "source": [
    "# Retorna os dados\n",
    "select_sql = \"SELECT * FROM core_product LIMIT 5;\"\n",
    "select_psql = f'psql -U postgres -c \"{select_sql}\" estoque_teste'\n",
    "subprocess.call(select_psql, shell=True)"
   ]
  },
  {
   "cell_type": "code",
   "execution_count": 6,
   "metadata": {},
   "outputs": [
    {
     "data": {
      "text/plain": [
       "0"
      ]
     },
     "execution_count": 6,
     "metadata": {},
     "output_type": "execute_result"
    }
   ],
   "source": [
    "# Contando os registros\n",
    "count_sql = \"SELECT COUNT(*) FROM core_product;\"\n",
    "count_psql = f'psql -U postgres -c \"{count_sql}\" estoque_teste'\n",
    "subprocess.call(count_psql, shell=True)"
   ]
  },
  {
   "cell_type": "code",
   "execution_count": null,
   "metadata": {},
   "outputs": [],
   "source": []
  }
 ],
 "metadata": {
  "kernelspec": {
   "display_name": "Python 3",
   "language": "python",
   "name": "python3"
  },
  "language_info": {
   "codemirror_mode": {
    "name": "ipython",
    "version": 3
   },
   "file_extension": ".py",
   "mimetype": "text/x-python",
   "name": "python",
   "nbconvert_exporter": "python",
   "pygments_lexer": "ipython3",
   "version": "3.8.2"
  }
 },
 "nbformat": 4,
 "nbformat_minor": 4
}
