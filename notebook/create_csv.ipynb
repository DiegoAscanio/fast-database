{
 "cells": [
  {
   "cell_type": "markdown",
   "metadata": {},
   "source": [
    "# Criando CSV qualquer"
   ]
  },
  {
   "cell_type": "code",
   "execution_count": 1,
   "metadata": {},
   "outputs": [],
   "source": [
    "import csv\n",
    "import string\n",
    "import timeit\n",
    "import subprocess\n",
    "from random import choice, randint"
   ]
  },
  {
   "cell_type": "code",
   "execution_count": 2,
   "metadata": {},
   "outputs": [],
   "source": [
    "def gen_digits(max_length):\n",
    "    return str(''.join(choice(string.ascii_letters) for i in range(max_length)))"
   ]
  },
  {
   "cell_type": "code",
   "execution_count": 3,
   "metadata": {},
   "outputs": [],
   "source": [
    "def write_csv(filename, max_rows, max_digits):\n",
    "    with open(filename, 'w') as f:\n",
    "        csv_writer = csv.writer(f)\n",
    "        csv_writer.writerow(['produto','quantidade'])\n",
    "        for i in range(max_rows):\n",
    "            csv_writer.writerow([gen_digits(max_digits),randint(100,10000)])"
   ]
  },
  {
   "cell_type": "code",
   "execution_count": 4,
   "metadata": {},
   "outputs": [
    {
     "name": "stdout",
     "output_type": "stream",
     "text": [
      "0.149 segundos\n",
      "0.002 minutos\n"
     ]
    }
   ],
   "source": [
    "max_rows = 10000\n",
    "filename = f'/tmp/produtos_{max_rows}.csv'\n",
    "max_digits = 12\n",
    "tic = timeit.default_timer()\n",
    "write_csv(filename, max_rows, max_digits)\n",
    "toc = timeit.default_timer()\n",
    "print(round(toc - tic, 3), 'segundos')\n",
    "print(round((toc - tic)/60, 3), 'minutos')"
   ]
  },
  {
   "cell_type": "code",
   "execution_count": 5,
   "metadata": {},
   "outputs": [],
   "source": [
    "# Rodar wc -l filename no terminal"
   ]
  },
  {
   "cell_type": "code",
   "execution_count": 6,
   "metadata": {},
   "outputs": [],
   "source": [
    "# Rodar head filename no terminal"
   ]
  },
  {
   "cell_type": "code",
   "execution_count": null,
   "metadata": {},
   "outputs": [],
   "source": []
  }
 ],
 "metadata": {
  "kernelspec": {
   "display_name": "Django Shell-Plus",
   "language": "python",
   "name": "django_extensions"
  },
  "language_info": {
   "codemirror_mode": {
    "name": "ipython",
    "version": 3
   },
   "file_extension": ".py",
   "mimetype": "text/x-python",
   "name": "python",
   "nbconvert_exporter": "python",
   "pygments_lexer": "ipython3",
   "version": "3.8.2"
  }
 },
 "nbformat": 4,
 "nbformat_minor": 4
}
