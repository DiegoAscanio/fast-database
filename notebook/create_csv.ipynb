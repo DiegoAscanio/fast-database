{
 "cells": [
  {
   "cell_type": "markdown",
   "metadata": {},
   "source": [
    "# Criando CSV qualquer"
   ]
  },
  {
   "cell_type": "code",
   "execution_count": 1,
   "metadata": {},
   "outputs": [],
   "source": [
    "import csv\n",
    "import string\n",
    "import timeit\n",
    "import subprocess\n",
    "from pathlib import Path\n",
    "from random import choice, randint"
   ]
  },
  {
   "cell_type": "code",
   "execution_count": 2,
   "metadata": {},
   "outputs": [],
   "source": [
    "logfile = '../time_log.txt'"
   ]
  },
  {
   "cell_type": "code",
   "execution_count": 3,
   "metadata": {},
   "outputs": [],
   "source": [
    "def gen_digits(max_length):\n",
    "    return str(''.join(choice(string.ascii_letters) for i in range(max_length)))"
   ]
  },
  {
   "cell_type": "code",
   "execution_count": 4,
   "metadata": {},
   "outputs": [],
   "source": [
    "def timelog(total_items, _time, logfile=logfile):\n",
    "    total_items = f'{total_items:,}'.replace(',', '.')\n",
    "    space = ' ' * (10 - len(total_items))\n",
    "    time = round((_time), 3)\n",
    "    subprocess.call(f\"printf '{total_items} {space} -> {time}s\\t --> Gerando {total_items} registros.\\n' >> {logfile}\", shell=True)"
   ]
  },
  {
   "cell_type": "code",
   "execution_count": 5,
   "metadata": {},
   "outputs": [],
   "source": [
    "def write_csv(filename, max_rows, max_digits):\n",
    "    with open(filename, 'w') as f:\n",
    "        csv_writer = csv.writer(f)\n",
    "        csv_writer.writerow(['title','quantity'])\n",
    "        for i in range(max_rows):\n",
    "            csv_writer.writerow([gen_digits(max_digits),randint(100,10000)])"
   ]
  },
  {
   "cell_type": "code",
   "execution_count": 6,
   "metadata": {},
   "outputs": [
    {
     "name": "stdout",
     "output_type": "stream",
     "text": [
      "159.656 segundos\n",
      "2.661 minutos\n"
     ]
    }
   ],
   "source": [
    "home = str(Path.home())\n",
    "\n",
    "max_rows = 14000605  # quantidade de linhas\n",
    "filename = f'{home}/dados/produtos_{max_rows}.csv'\n",
    "max_digits = 12  # quantidade de dígitos de cada produto\n",
    "\n",
    "tic = timeit.default_timer()\n",
    "write_csv(filename, max_rows, max_digits)\n",
    "toc = timeit.default_timer()\n",
    "time = toc - tic\n",
    "print(round(time, 3), 'segundos')\n",
    "print(round((time)/60, 3), 'minutos')\n",
    "timelog(max_rows, time, logfile)"
   ]
  },
  {
   "cell_type": "code",
   "execution_count": 7,
   "metadata": {},
   "outputs": [],
   "source": [
    "# Rodar wc -l filename no terminal"
   ]
  },
  {
   "cell_type": "code",
   "execution_count": 8,
   "metadata": {},
   "outputs": [],
   "source": [
    "# Rodar head filename no terminal"
   ]
  },
  {
   "cell_type": "code",
   "execution_count": null,
   "metadata": {},
   "outputs": [],
   "source": []
  }
 ],
 "metadata": {
  "kernelspec": {
   "display_name": "Django Shell-Plus",
   "language": "python",
   "name": "django_extensions"
  },
  "language_info": {
   "codemirror_mode": {
    "name": "ipython",
    "version": 3
   },
   "file_extension": ".py",
   "mimetype": "text/x-python",
   "name": "python",
   "nbconvert_exporter": "python",
   "pygments_lexer": "ipython3",
   "version": "3.8.2"
  }
 },
 "nbformat": 4,
 "nbformat_minor": 4
}
